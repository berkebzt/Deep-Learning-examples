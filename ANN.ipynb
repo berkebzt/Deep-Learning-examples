{
  "nbformat": 4,
  "nbformat_minor": 0,
  "metadata": {
    "colab": {
      "provenance": []
    },
    "kernelspec": {
      "name": "python3",
      "display_name": "Python 3"
    },
    "language_info": {
      "name": "python"
    },
    "accelerator": "GPU",
    "gpuClass": "standard"
  },
  "cells": [
    {
      "cell_type": "code",
      "execution_count": null,
      "metadata": {
        "id": "xKpV37qj6wKG"
      },
      "outputs": [],
      "source": [
        "import numpy as np\n",
        "from random import randint\n",
        "from sklearn.utils import shuffle\n",
        "from sklearn.preprocessing import MinMaxScaler\n",
        "\n",
        "import tensorflow as tf\n",
        "from tensorflow import keras\n",
        "\n",
        "from keras.models import Sequential\n",
        "from keras.layers import Dense, Activation\n",
        "\n",
        "from keras.optimizers import Adam\n",
        "from keras.metrics import categorical_crossentropy"
      ]
    },
    {
      "cell_type": "code",
      "source": [
        "training_set = []\n",
        "training_labels = []\n",
        "\n",
        "for i in range(125):\n",
        "  random_under50 = randint(10,50)\n",
        "  training_set.append(random_under50)\n",
        "  training_labels.append(1)\n",
        "\n",
        "  random_over50 = randint(51,90)\n",
        "  training_set.append(random_over50)\n",
        "  training_labels.append(0)\n",
        "\n",
        "for i in range(2500):\n",
        "  random_under50 = randint(10,50)\n",
        "  training_set.append(random_under50)\n",
        "  training_labels.append(1)\n",
        "\n",
        "  random_over50  = randint(51,90)\n",
        "  training_set.append(random_over50)\n",
        "  training_labels.append(1)\n"
      ],
      "metadata": {
        "id": "iDiIUmFi7fJl"
      },
      "execution_count": null,
      "outputs": []
    },
    {
      "cell_type": "code",
      "source": [
        "training_labels = np.array(training_labels)\n",
        "training_set = np.array(training_set)\n",
        "training_labels, training_set = shuffle(training_labels, training_set)"
      ],
      "metadata": {
        "id": "niSmxlFc8ea5"
      },
      "execution_count": null,
      "outputs": []
    },
    {
      "cell_type": "code",
      "source": [
        "print(training_set)"
      ],
      "metadata": {
        "colab": {
          "base_uri": "https://localhost:8080/"
        },
        "id": "E-FpI_Ke9GP9",
        "outputId": "33f117d4-6dff-460a-b013-e0815b8e7d2d"
      },
      "execution_count": null,
      "outputs": [
        {
          "output_type": "stream",
          "name": "stdout",
          "text": [
            "[40 45 88 ... 47 67 36]\n"
          ]
        }
      ]
    },
    {
      "cell_type": "code",
      "source": [
        "\n",
        "scaler = MinMaxScaler(feature_range=(0,1))\n",
        "scaled_training_set = scaler.fit_transform(training_set.reshape(-1,1))"
      ],
      "metadata": {
        "id": "YBGj_RRM9I0z"
      },
      "execution_count": null,
      "outputs": []
    },
    {
      "cell_type": "code",
      "source": [
        "scaled_training_set"
      ],
      "metadata": {
        "colab": {
          "base_uri": "https://localhost:8080/"
        },
        "id": "qzIDJuiZ9dhU",
        "outputId": "58498918-0738-4a69-bbff-43956774e72d"
      },
      "execution_count": null,
      "outputs": [
        {
          "output_type": "execute_result",
          "data": {
            "text/plain": [
              "array([[0.375 ],\n",
              "       [0.4375],\n",
              "       [0.975 ],\n",
              "       ...,\n",
              "       [0.4625],\n",
              "       [0.7125],\n",
              "       [0.325 ]])"
            ]
          },
          "metadata": {},
          "execution_count": 7
        }
      ]
    },
    {
      "cell_type": "markdown",
      "source": [
        "CREATE A NEURAL NETWORK\n"
      ],
      "metadata": {
        "id": "2AO7fwiTHh07"
      }
    },
    {
      "cell_type": "code",
      "source": [
        "model = Sequential([\n",
        "    Dense(units=12, input_shape=(1,), activation='relu'),\n",
        "    Dense(units=24, activation='relu'),\n",
        "    Dense(units=12, activation='relu'),\n",
        "    Dense(units=2, activation='softmax')\n",
        "])"
      ],
      "metadata": {
        "id": "fWqhAm_n9fE6"
      },
      "execution_count": null,
      "outputs": []
    },
    {
      "cell_type": "code",
      "source": [
        "model.compile(optimizer=Adam(learning_rate=0.0001), loss = 'sparse_categorical_crossentropy', metrics=['accuracy'])"
      ],
      "metadata": {
        "id": "masrpf33MsC2"
      },
      "execution_count": null,
      "outputs": []
    },
    {
      "cell_type": "code",
      "source": [
        "model.fit(x = scaled_training_set, y=training_labels, validation_split = 0.1, batch_size=10, epochs=30, shuffle=True, verbose=2)"
      ],
      "metadata": {
        "colab": {
          "base_uri": "https://localhost:8080/"
        },
        "id": "rhqaTub0Nu7k",
        "outputId": "47f81b2a-616f-42ff-cf62-75c4a6b3fa8b"
      },
      "execution_count": null,
      "outputs": [
        {
          "output_type": "stream",
          "name": "stdout",
          "text": [
            "Epoch 1/30\n",
            "473/473 - 5s - loss: 0.5110 - accuracy: 0.9769 - val_loss: 0.3154 - val_accuracy: 0.9695 - 5s/epoch - 10ms/step\n",
            "Epoch 2/30\n",
            "473/473 - 1s - loss: 0.2037 - accuracy: 0.9769 - val_loss: 0.1762 - val_accuracy: 0.9695 - 1s/epoch - 3ms/step\n",
            "Epoch 3/30\n",
            "473/473 - 1s - loss: 0.1381 - accuracy: 0.9769 - val_loss: 0.1644 - val_accuracy: 0.9695 - 1s/epoch - 3ms/step\n",
            "Epoch 4/30\n",
            "473/473 - 1s - loss: 0.1305 - accuracy: 0.9769 - val_loss: 0.1610 - val_accuracy: 0.9695 - 1s/epoch - 2ms/step\n",
            "Epoch 5/30\n",
            "473/473 - 1s - loss: 0.1269 - accuracy: 0.9769 - val_loss: 0.1573 - val_accuracy: 0.9695 - 1s/epoch - 2ms/step\n",
            "Epoch 6/30\n",
            "473/473 - 1s - loss: 0.1241 - accuracy: 0.9769 - val_loss: 0.1544 - val_accuracy: 0.9695 - 1s/epoch - 2ms/step\n",
            "Epoch 7/30\n",
            "473/473 - 1s - loss: 0.1216 - accuracy: 0.9769 - val_loss: 0.1512 - val_accuracy: 0.9695 - 1s/epoch - 2ms/step\n",
            "Epoch 8/30\n",
            "473/473 - 1s - loss: 0.1194 - accuracy: 0.9769 - val_loss: 0.1486 - val_accuracy: 0.9695 - 1s/epoch - 2ms/step\n",
            "Epoch 9/30\n",
            "473/473 - 1s - loss: 0.1174 - accuracy: 0.9769 - val_loss: 0.1455 - val_accuracy: 0.9695 - 1s/epoch - 2ms/step\n",
            "Epoch 10/30\n",
            "473/473 - 1s - loss: 0.1155 - accuracy: 0.9769 - val_loss: 0.1424 - val_accuracy: 0.9695 - 1s/epoch - 2ms/step\n",
            "Epoch 11/30\n",
            "473/473 - 1s - loss: 0.1140 - accuracy: 0.9769 - val_loss: 0.1406 - val_accuracy: 0.9695 - 1s/epoch - 2ms/step\n",
            "Epoch 12/30\n",
            "473/473 - 1s - loss: 0.1125 - accuracy: 0.9769 - val_loss: 0.1396 - val_accuracy: 0.9695 - 1s/epoch - 3ms/step\n",
            "Epoch 13/30\n",
            "473/473 - 1s - loss: 0.1113 - accuracy: 0.9769 - val_loss: 0.1369 - val_accuracy: 0.9695 - 1s/epoch - 3ms/step\n",
            "Epoch 14/30\n",
            "473/473 - 1s - loss: 0.1099 - accuracy: 0.9769 - val_loss: 0.1371 - val_accuracy: 0.9695 - 1s/epoch - 2ms/step\n",
            "Epoch 15/30\n",
            "473/473 - 1s - loss: 0.1093 - accuracy: 0.9769 - val_loss: 0.1352 - val_accuracy: 0.9695 - 1s/epoch - 2ms/step\n",
            "Epoch 16/30\n",
            "473/473 - 1s - loss: 0.1082 - accuracy: 0.9769 - val_loss: 0.1336 - val_accuracy: 0.9695 - 1s/epoch - 2ms/step\n",
            "Epoch 17/30\n",
            "473/473 - 1s - loss: 0.1074 - accuracy: 0.9769 - val_loss: 0.1326 - val_accuracy: 0.9695 - 1s/epoch - 2ms/step\n",
            "Epoch 18/30\n",
            "473/473 - 1s - loss: 0.1067 - accuracy: 0.9769 - val_loss: 0.1318 - val_accuracy: 0.9695 - 1s/epoch - 2ms/step\n",
            "Epoch 19/30\n",
            "473/473 - 1s - loss: 0.1061 - accuracy: 0.9769 - val_loss: 0.1308 - val_accuracy: 0.9695 - 1s/epoch - 2ms/step\n",
            "Epoch 20/30\n",
            "473/473 - 1s - loss: 0.1055 - accuracy: 0.9769 - val_loss: 0.1293 - val_accuracy: 0.9695 - 1s/epoch - 2ms/step\n",
            "Epoch 21/30\n",
            "473/473 - 1s - loss: 0.1048 - accuracy: 0.9769 - val_loss: 0.1300 - val_accuracy: 0.9695 - 1s/epoch - 2ms/step\n",
            "Epoch 22/30\n",
            "473/473 - 1s - loss: 0.1046 - accuracy: 0.9769 - val_loss: 0.1282 - val_accuracy: 0.9695 - 1s/epoch - 2ms/step\n",
            "Epoch 23/30\n",
            "473/473 - 1s - loss: 0.1041 - accuracy: 0.9769 - val_loss: 0.1273 - val_accuracy: 0.9695 - 1s/epoch - 3ms/step\n",
            "Epoch 24/30\n",
            "473/473 - 1s - loss: 0.1038 - accuracy: 0.9769 - val_loss: 0.1270 - val_accuracy: 0.9695 - 1s/epoch - 3ms/step\n",
            "Epoch 25/30\n",
            "473/473 - 1s - loss: 0.1034 - accuracy: 0.9769 - val_loss: 0.1264 - val_accuracy: 0.9695 - 1s/epoch - 2ms/step\n",
            "Epoch 26/30\n",
            "473/473 - 1s - loss: 0.1031 - accuracy: 0.9769 - val_loss: 0.1261 - val_accuracy: 0.9695 - 1s/epoch - 2ms/step\n",
            "Epoch 27/30\n",
            "473/473 - 1s - loss: 0.1029 - accuracy: 0.9769 - val_loss: 0.1257 - val_accuracy: 0.9695 - 1s/epoch - 2ms/step\n",
            "Epoch 28/30\n",
            "473/473 - 1s - loss: 0.1027 - accuracy: 0.9769 - val_loss: 0.1248 - val_accuracy: 0.9695 - 1s/epoch - 2ms/step\n",
            "Epoch 29/30\n",
            "473/473 - 1s - loss: 0.1024 - accuracy: 0.9769 - val_loss: 0.1248 - val_accuracy: 0.9695 - 1s/epoch - 2ms/step\n",
            "Epoch 30/30\n",
            "473/473 - 1s - loss: 0.1022 - accuracy: 0.9769 - val_loss: 0.1245 - val_accuracy: 0.9695 - 1s/epoch - 2ms/step\n"
          ]
        },
        {
          "output_type": "execute_result",
          "data": {
            "text/plain": [
              "<keras.callbacks.History at 0x7f1f400fc730>"
            ]
          },
          "metadata": {},
          "execution_count": 10
        }
      ]
    },
    {
      "cell_type": "markdown",
      "source": [
        "Creating data sets that the neural network hasn't seen before\n"
      ],
      "metadata": {
        "id": "u6cFeOsiOzl2"
      }
    },
    {
      "cell_type": "code",
      "source": [
        "test_labels = []\n",
        "test_set = []\n",
        "\n",
        "for i in range(25):\n",
        "  random_under50 = randint(10,50)\n",
        "  test_set.append(random_under50)\n",
        "  test_labels.append(1)\n",
        "\n",
        "  random_over50 = randint(51,90)\n",
        "  test_set.append(random_under50)\n",
        "  test_labels.append(0)\n",
        "\n",
        "for i in range(500):\n",
        "  random_under50 = randint(10,50)\n",
        "  test_set.append(random_over50)\n",
        "  test_labels.append(0)\n",
        "\n",
        "  random_over50 = randint(51,90)\n",
        "  test_set.append(random_over50)\n",
        "  test_labels.append(1)\n"
      ],
      "metadata": {
        "id": "IowqFnxQOPUt"
      },
      "execution_count": null,
      "outputs": []
    },
    {
      "cell_type": "code",
      "source": [
        "test_labels = np.array(test_labels)\n",
        "test_set = np.array(test_set)\n",
        "test_labels, test_set = shuffle(test_labels, test_set)\n",
        "scaled_test_set = scaler.fit_transform(test_set.reshape(-1,1))"
      ],
      "metadata": {
        "id": "jirogIZ9QaWD"
      },
      "execution_count": null,
      "outputs": []
    },
    {
      "cell_type": "code",
      "source": [
        "scaled_test_set"
      ],
      "metadata": {
        "colab": {
          "base_uri": "https://localhost:8080/"
        },
        "id": "GInxYX-rQuwD",
        "outputId": "de084081-ad6d-4738-e8e1-20962aded058"
      },
      "execution_count": null,
      "outputs": [
        {
          "output_type": "execute_result",
          "data": {
            "text/plain": [
              "array([[0.95890411],\n",
              "       [0.89041096],\n",
              "       [0.80821918],\n",
              "       ...,\n",
              "       [0.90410959],\n",
              "       [0.53424658],\n",
              "       [0.47945205]])"
            ]
          },
          "metadata": {},
          "execution_count": 13
        }
      ]
    },
    {
      "cell_type": "code",
      "source": [
        "predictions = model.predict(x=scaled_test_set, batch_size=10, verbose=0)"
      ],
      "metadata": {
        "id": "Dtl8A31nVrOf"
      },
      "execution_count": null,
      "outputs": []
    },
    {
      "cell_type": "code",
      "source": [
        "predictions"
      ],
      "metadata": {
        "colab": {
          "base_uri": "https://localhost:8080/"
        },
        "id": "bF45gKqdVzt0",
        "outputId": "40f4d12c-5462-4d1a-8e6f-820a10c75b1c"
      },
      "execution_count": null,
      "outputs": [
        {
          "output_type": "execute_result",
          "data": {
            "text/plain": [
              "array([[0.04701012, 0.95298994],\n",
              "       [0.04381615, 0.9561839 ],\n",
              "       [0.04025648, 0.95974356],\n",
              "       ...,\n",
              "       [0.04443792, 0.95556206],\n",
              "       [0.02237364, 0.9776264 ],\n",
              "       [0.01954411, 0.9804559 ]], dtype=float32)"
            ]
          },
          "metadata": {},
          "execution_count": 15
        }
      ]
    },
    {
      "cell_type": "code",
      "source": [
        "rounded_predictions = np.argmax(predictions, axis=-1)"
      ],
      "metadata": {
        "id": "a7LAU17TV4sh"
      },
      "execution_count": null,
      "outputs": []
    },
    {
      "cell_type": "code",
      "source": [
        "rounded_predictions"
      ],
      "metadata": {
        "colab": {
          "base_uri": "https://localhost:8080/"
        },
        "id": "lW8OqvgKV_4m",
        "outputId": "40db351e-9bb5-4dc6-e813-6af433223cde"
      },
      "execution_count": null,
      "outputs": [
        {
          "output_type": "execute_result",
          "data": {
            "text/plain": [
              "array([1, 1, 1, ..., 1, 1, 1])"
            ]
          },
          "metadata": {},
          "execution_count": 17
        }
      ]
    },
    {
      "cell_type": "markdown",
      "source": [
        "Now we have to visualize our prediction results from the Neural Network on test data"
      ],
      "metadata": {
        "id": "_dqdhGb4WFv0"
      }
    },
    {
      "cell_type": "code",
      "source": [
        "from sklearn.metrics import confusion_matrix\n",
        "import itertools\n",
        "import matplotlib.pyplot as plt"
      ],
      "metadata": {
        "id": "tJSe6A9DWCAi"
      },
      "execution_count": null,
      "outputs": []
    },
    {
      "cell_type": "code",
      "source": [
        "def plot_conf_matrix(cm, classes, normalize=False, title=\"Confusion Matrix\", cmap=plt.cm.Blues):\n",
        "  plt.imshow(cm, interpolation='nearest', cmap=cmap)\n",
        "  plt.title(title)\n",
        "  plt.colorbar()\n",
        "  tick_marks = np.arange(len(classes))\n",
        "  plt.xticks(tick_marks, classes, rotation=45)\n",
        "  plt.yticks(tick_marks, classes)\n",
        "\n",
        "  if normalize:\n",
        "    cm = cm.astype('float') / cm.sum(axis=1)[:,np.newaxis]\n",
        "    print(\"Normalized Confusion matrix\")\n",
        "  else:\n",
        "    print(\"Confusion Matrix w/o Normalization\")\n",
        "\n",
        "  print(cm)\n",
        "\n",
        "  thresh = cm.max() / 2.0\n",
        "\n",
        "  for i,j in itertools.product(range(cm.shape[0]), range(cm.shape[1])):\n",
        "    plt.text(j, i, cm[i,j], horizontalalignment='center', color='white' if cm[i,j] > thresh else 'black')\n",
        "\n",
        "  plt.tight_layout() \n",
        "  plt.xlabel('Predicted Label')\n",
        "  plt.ylabel('True Label')   \n"
      ],
      "metadata": {
        "id": "hqdU3BvMWS9x"
      },
      "execution_count": null,
      "outputs": []
    },
    {
      "cell_type": "code",
      "source": [
        "cm = confusion_matrix(y_true = test_labels, y_pred=rounded_predictions)\n",
        "\n",
        "cm_plot_labels = ['no side effects','had side effects']\n",
        "plot_conf_matrix(cm=cm, classes=cm_plot_labels)"
      ],
      "metadata": {
        "colab": {
          "base_uri": "https://localhost:8080/",
          "height": 363
        },
        "id": "SgTrH7ZyYHEd",
        "outputId": "8494cf39-586f-4643-cf76-9d188a2823cf"
      },
      "execution_count": null,
      "outputs": [
        {
          "output_type": "stream",
          "name": "stdout",
          "text": [
            "Confusion Matrix w/o Normalization\n",
            "[[  0 525]\n",
            " [  0 525]]\n"
          ]
        },
        {
          "output_type": "display_data",
          "data": {
            "text/plain": [
              "<Figure size 432x288 with 2 Axes>"
            ],
            "image/png": "[encoded data removed]"
          },
          "metadata": {
            "needs_background": "light"
          }
        }
      ]
    },
    {
      "cell_type": "code",
      "source": [
        "import os.path\n",
        "\n",
        "if os.path.isfile('vaccine_trial_model.h5') is False:\n",
        "  model.save('vaccine_trial_model.h5')\n",
        "  print(\"Model is saved!\")"
      ],
      "metadata": {
        "colab": {
          "base_uri": "https://localhost:8080/"
        },
        "id": "qqL0LlCSYeUB",
        "outputId": "f66e055c-5769-4b7d-da21-2311ba0ae2c8"
      },
      "execution_count": null,
      "outputs": [
        {
          "output_type": "stream",
          "name": "stdout",
          "text": [
            "Model is saved!\n"
          ]
        }
      ]
    },
    {
      "cell_type": "code",
      "source": [
        "from tensorflow.keras.models import load_model\n",
        "new_model = load_model('vaccine_trial_model.h5')"
      ],
      "metadata": {
        "id": "WmnYq0PQgxbw"
      },
      "execution_count": null,
      "outputs": []
    },
    {
      "cell_type": "code",
      "source": [
        "new_model.summary()"
      ],
      "metadata": {
        "colab": {
          "base_uri": "https://localhost:8080/"
        },
        "id": "vYWFS4qJlfDg",
        "outputId": "aa32ae2a-57f5-4202-9a9b-f72b3aa4e26b"
      },
      "execution_count": null,
      "outputs": [
        {
          "output_type": "stream",
          "name": "stdout",
          "text": [
            "Model: \"sequential\"\n",
            "_________________________________________________________________\n",
            " Layer (type)                Output Shape              Param #   \n",
            "=================================================================\n",
            " dense (Dense)               (None, 12)                24        \n",
            "                                                                 \n",
            " dense_1 (Dense)             (None, 24)                312       \n",
            "                                                                 \n",
            " dense_2 (Dense)             (None, 12)                300       \n",
            "                                                                 \n",
            " dense_3 (Dense)             (None, 2)                 26        \n",
            "                                                                 \n",
            "=================================================================\n",
            "Total params: 662\n",
            "Trainable params: 662\n",
            "Non-trainable params: 0\n",
            "_________________________________________________________________\n"
          ]
        }
      ]
    },
    {
      "cell_type": "code",
      "source": [
        "new_model.get_weights()"
      ],
      "metadata": {
        "colab": {
          "base_uri": "https://localhost:8080/"
        },
        "id": "X2etcZM5lhM1",
        "outputId": "689bd93a-e48d-4304-8090-11509925241f"
      },
      "execution_count": null,
      "outputs": [
        {
          "output_type": "execute_result",
          "data": {
            "text/plain": [
              "[array([[ 0.5552954 ,  0.08321864,  0.5809846 , -0.05490464,  0.05966226,\n",
              "         -0.03259623, -0.3113912 ,  0.24005003,  0.59172493,  0.25542983,\n",
              "         -0.03494012, -0.45306766]], dtype=float32),\n",
              " array([ 0.2124598 ,  0.19870283, -0.05967989,  0.        ,  0.20431103,\n",
              "         0.        ,  0.        , -0.02038793,  0.18538424,  0.17536636,\n",
              "         0.        ,  0.        ], dtype=float32),\n",
              " array([[ 0.40682724,  0.47563702,  0.304157  , -0.06149942, -0.35234815,\n",
              "          0.03841222,  0.27698368, -0.2696213 ,  0.08236355,  0.25795096,\n",
              "          0.20364714,  0.16582602,  0.1176226 ,  0.3120504 , -0.364536  ,\n",
              "         -0.2545128 , -0.37149402, -0.30500606, -0.05587103,  0.39530513,\n",
              "         -0.27436203, -0.00654916, -0.10479441, -0.20723523],\n",
              "        [ 0.35367602,  0.45903713,  0.44664198, -0.17397816,  0.3777743 ,\n",
              "          0.11343416, -0.31826535, -0.01294043,  0.3276627 , -0.18671678,\n",
              "          0.359675  ,  0.30200273,  0.10975882, -0.34639427,  0.17487974,\n",
              "          0.18591532, -0.10028991,  0.49194536, -0.16564465,  0.05752818,\n",
              "         -0.15491638,  0.3232158 , -0.30893105,  0.03076687],\n",
              "        [-0.1590189 ,  0.29989785, -0.4338196 , -0.23802315,  0.2521969 ,\n",
              "          0.24575281,  0.42997193, -0.26945823, -0.34131593,  0.19516996,\n",
              "          0.1871838 , -0.07650164, -0.3406048 , -0.35838518, -0.25435394,\n",
              "          0.02291193,  0.29215157,  0.15612717, -0.15814537,  0.09995296,\n",
              "         -0.17445968, -0.3743019 ,  0.02615436, -0.28532988],\n",
              "        [ 0.16843206,  0.09832096, -0.21198231,  0.09164131,  0.23641431,\n",
              "          0.20055962,  0.16510665, -0.18522394,  0.35507172, -0.305705  ,\n",
              "          0.14892876,  0.04363346,  0.29889077, -0.14502025, -0.16479023,\n",
              "          0.3281368 ,  0.20283854,  0.21515375, -0.22104518,  0.26057804,\n",
              "         -0.36572483, -0.06653479, -0.02754173,  0.06685346],\n",
              "        [ 0.26000777, -0.12357758, -0.11187414, -0.27461088, -0.02616096,\n",
              "          0.17465045,  0.19738173, -0.3955493 ,  0.10939194,  0.24065849,\n",
              "         -0.00941941,  0.2746723 ,  0.25490478,  0.39733517,  0.2551562 ,\n",
              "         -0.09603981,  0.1575883 ,  0.50800425,  0.02738424, -0.07677836,\n",
              "          0.01534918,  0.46638712,  0.36169302, -0.30655658],\n",
              "        [ 0.3507282 , -0.14047882, -0.38555965, -0.24036393, -0.17272869,\n",
              "          0.3254431 , -0.3815312 , -0.1554378 ,  0.15609312, -0.37972116,\n",
              "          0.3261764 , -0.02240765, -0.3660947 ,  0.02101284, -0.14163321,\n",
              "         -0.22734998,  0.09085962, -0.01236433,  0.06491029,  0.25555813,\n",
              "          0.08894506, -0.15460783, -0.1719652 , -0.0272145 ],\n",
              "        [-0.2666077 ,  0.14134324,  0.36717558,  0.13066745,  0.35617328,\n",
              "         -0.24860276,  0.26377177, -0.11445054, -0.3600643 , -0.0873149 ,\n",
              "          0.23870575, -0.378633  , -0.04756421, -0.27763253,  0.05470198,\n",
              "          0.11013556, -0.02129024, -0.4074267 ,  0.07272649,  0.04054582,\n",
              "          0.32159382, -0.15983233,  0.22865933, -0.26506907],\n",
              "        [-0.4072548 , -0.24693191, -0.52164716,  0.121638  ,  0.3784939 ,\n",
              "         -0.40697488, -0.1987679 , -0.38520175, -0.3870815 , -0.36990625,\n",
              "          0.37138617,  0.26441938, -0.21460786, -0.09872508, -0.44742584,\n",
              "         -0.09012054, -0.01130331,  0.25256002, -0.08517773,  0.1261646 ,\n",
              "          0.21944958, -0.23911762, -0.15351278,  0.19563234],\n",
              "        [-0.19682531,  0.4354145 , -0.17569152,  0.08617464, -0.155992  ,\n",
              "         -0.22602457,  0.2848495 ,  0.37707847,  0.1295182 ,  0.05882094,\n",
              "         -0.41089922,  0.39294857,  0.0647069 , -0.34308755,  0.30369577,\n",
              "          0.37491658, -0.04966292,  0.00419791,  0.28731582,  0.13832556,\n",
              "         -0.10060403,  0.12089721,  0.05976151, -0.16803582],\n",
              "        [ 0.40088543,  0.20440522,  0.12222542, -0.12208232, -0.38167945,\n",
              "         -0.14302836, -0.10713712, -0.01729723, -0.08495132, -0.11165357,\n",
              "         -0.2647183 ,  0.17279081,  0.2031749 , -0.07879668,  0.39799213,\n",
              "         -0.26212868, -0.39545766, -0.06018438,  0.35646373,  0.13456245,\n",
              "         -0.1943891 , -0.03754625, -0.00105979,  0.00353751],\n",
              "        [ 0.10101098, -0.06198519,  0.14016736,  0.33181262, -0.18429469,\n",
              "         -0.36638525, -0.29497948,  0.3354603 , -0.3899501 , -0.10521445,\n",
              "         -0.11182779,  0.16498041, -0.21657892, -0.04630733, -0.27628076,\n",
              "         -0.27539745,  0.15158957, -0.36693004, -0.09115669, -0.37883037,\n",
              "         -0.2602585 , -0.3737648 ,  0.38152593,  0.18929124],\n",
              "        [-0.26568538,  0.01961541, -0.20827934, -0.21010299,  0.0865193 ,\n",
              "          0.3287503 , -0.14255857,  0.05956373,  0.36447674,  0.17737317,\n",
              "          0.07397646,  0.21636605, -0.04314485, -0.16034177, -0.28617555,\n",
              "          0.20740741, -0.23137407, -0.31200203,  0.16770375,  0.25940555,\n",
              "          0.17154318,  0.02287835,  0.12800014, -0.08824271]],\n",
              "       dtype=float32),\n",
              " array([ 0.1707552 ,  0.08045981,  0.20343687,  0.        ,  0.        ,\n",
              "        -0.00145325, -0.07661335, -0.00236183,  0.18865214,  0.20010082,\n",
              "        -0.00528558,  0.14859979,  0.17946471, -0.0031026 ,  0.13311453,\n",
              "        -0.01311267,  0.        ,  0.16726086,  0.17133276, -0.1301179 ,\n",
              "         0.        ,  0.16593428, -0.00395865,  0.        ], dtype=float32),\n",
              " array([[-0.10723588,  0.2569948 , -0.10316055,  0.2929393 ,  0.13662076,\n",
              "          0.48913592,  0.4633352 , -0.39723653, -0.06377149, -0.15132153,\n",
              "          0.16356556,  0.48983896],\n",
              "        [-0.40727925,  0.42847395, -0.381174  ,  0.26204097, -0.25595516,\n",
              "          0.06781089, -0.06260458, -0.16584542, -0.23422585,  0.07170899,\n",
              "         -0.07734145,  0.14821368],\n",
              "        [ 0.02333418,  0.40232357,  0.36757612, -0.3668005 ,  0.51151747,\n",
              "          0.34267452,  0.4836669 ,  0.02363357, -0.29311264,  0.09340558,\n",
              "          0.3302957 ,  0.45929518],\n",
              "        [ 0.21300298, -0.04249203, -0.07198411,  0.08401665, -0.33451557,\n",
              "         -0.11627343, -0.0170427 , -0.29238504,  0.14867485, -0.02202386,\n",
              "          0.18067223,  0.04053456],\n",
              "        [-0.31293878, -0.3137889 ,  0.1916467 , -0.16980156,  0.04403594,\n",
              "         -0.06714839,  0.3877443 , -0.03494379, -0.2034835 ,  0.25834054,\n",
              "          0.18487638, -0.30027154],\n",
              "        [-0.07993641,  0.06001297, -0.1013523 , -0.08089146,  0.08440843,\n",
              "          0.35873973, -0.25080547, -0.08097059, -0.35906222, -0.24754022,\n",
              "          0.07988474, -0.3210357 ],\n",
              "        [-0.10277155, -0.02568194,  0.03426138, -0.19473805, -0.5644904 ,\n",
              "         -0.27267998, -0.24461403, -0.22015983, -0.03706545, -0.17914826,\n",
              "         -0.23383467, -0.19835483],\n",
              "        [ 0.3949291 ,  0.3733754 ,  0.17731392,  0.29136527, -0.38915634,\n",
              "         -0.2480208 ,  0.08043326, -0.18954809, -0.0619885 ,  0.12445208,\n",
              "         -0.30775952, -0.21776092],\n",
              "        [-0.258357  ,  0.24553606, -0.18013571, -0.11811345,  0.01276739,\n",
              "          0.26734003,  0.43497825, -0.0078088 ,  0.32023025,  0.5487841 ,\n",
              "         -0.3397781 , -0.08010065],\n",
              "        [-0.02998158,  0.37520242,  0.13298234,  0.3157638 ,  0.22812921,\n",
              "          0.20638433, -0.03428425, -0.05037764,  0.10279858, -0.05546984,\n",
              "         -0.21219818,  0.42484283],\n",
              "        [ 0.19877672, -0.08308931,  0.34932816,  0.09750636, -0.23228179,\n",
              "          0.12942411, -0.3175876 , -0.13788673, -0.30052996,  0.39411113,\n",
              "         -0.09996969,  0.08854821],\n",
              "        [-0.3027001 , -0.15351252,  0.23822229,  0.01551846, -0.02726846,\n",
              "          0.20174198,  0.09920879, -0.30524772, -0.01489764, -0.20328036,\n",
              "          0.02282957,  0.19174217],\n",
              "        [-0.2997473 ,  0.5474514 , -0.13650423, -0.05194825,  0.12674057,\n",
              "          0.397749  ,  0.50490224, -0.00467068, -0.32108456,  0.41115868,\n",
              "          0.04670797,  0.05639828],\n",
              "        [ 0.32988375,  0.09907138,  0.2316981 ,  0.05159432,  0.12809324,\n",
              "         -0.10858629,  0.01998918,  0.20858699,  0.17677736, -0.23054032,\n",
              "         -0.19950186, -0.12952888],\n",
              "        [ 0.19662058, -0.12399481, -0.35722107, -0.19714013,  0.0226044 ,\n",
              "          0.57239044, -0.1359834 , -0.09081903,  0.25800562,  0.26537102,\n",
              "         -0.29910123,  0.0444058 ],\n",
              "        [ 0.05949774, -0.1770369 ,  0.11527211, -0.37822655,  0.37115663,\n",
              "         -0.20582296, -0.23948294,  0.09309578,  0.30053598, -0.3567539 ,\n",
              "          0.00994849, -0.36203462],\n",
              "        [-0.28551728,  0.06900367,  0.39284414, -0.31515634,  0.2945876 ,\n",
              "          0.2623394 ,  0.18201464, -0.09797153, -0.04835552,  0.09432811,\n",
              "          0.22236413, -0.33383763],\n",
              "        [ 0.07707098, -0.1611553 ,  0.06970718, -0.2362878 , -0.08731255,\n",
              "          0.42971256,  0.24264285, -0.05366683, -0.3888651 ,  0.47789767,\n",
              "          0.10864073, -0.18259458],\n",
              "        [ 0.10904688,  0.04325396,  0.28707936, -0.40405223,  0.16090922,\n",
              "          0.29508603,  0.01038704, -0.09553224,  0.09478313,  0.35876477,\n",
              "         -0.04748371, -0.10895317],\n",
              "        [-0.34390092,  0.10372426,  0.1884702 , -0.36613825, -0.41714755,\n",
              "         -0.4008786 , -0.2515129 , -0.06556866, -0.02834794, -0.03298963,\n",
              "         -0.37983146, -0.05949317],\n",
              "        [-0.17483392,  0.32812715,  0.11233997, -0.20761757, -0.13892585,\n",
              "         -0.18285745,  0.3018465 ,  0.04909828,  0.22443259,  0.19277352,\n",
              "         -0.3891242 , -0.03657177],\n",
              "        [ 0.06883508,  0.4853097 , -0.02322893,  0.0132647 ,  0.3282514 ,\n",
              "          0.05024618,  0.3595427 , -0.30138493,  0.30568975,  0.16056168,\n",
              "          0.12532458,  0.02177428],\n",
              "        [-0.10174838, -0.00813684,  0.21251208, -0.2667939 ,  0.19071175,\n",
              "         -0.18383263, -0.30021566, -0.3341353 ,  0.2595833 , -0.16719201,\n",
              "          0.19747478,  0.31202286],\n",
              "        [-0.18551049, -0.17071709, -0.16260353, -0.31817698,  0.16937435,\n",
              "         -0.29446876,  0.1206519 , -0.25367647,  0.14129078,  0.07277748,\n",
              "          0.24094129,  0.38334805]], dtype=float32),\n",
              " array([ 0.        ,  0.1613836 , -0.00335875, -0.03000145,  0.17063656,\n",
              "         0.13741885,  0.16689138,  0.        ,  0.        ,  0.17913455,\n",
              "        -0.00315755,  0.14713858], dtype=float32),\n",
              " array([[-0.22982547,  0.2874809 ],\n",
              "        [ 0.35486963,  0.6559624 ],\n",
              "        [-0.10580517, -0.2885196 ],\n",
              "        [-0.30554554, -0.5976168 ],\n",
              "        [-0.8880859 ,  0.9666932 ],\n",
              "        [-0.1616156 ,  0.7869991 ],\n",
              "        [-0.50760275,  0.68907833],\n",
              "        [ 0.39700496,  0.23238552],\n",
              "        [ 0.12805873, -0.5596377 ],\n",
              "        [-0.1516342 ,  0.84885293],\n",
              "        [-0.31920615, -0.62867516],\n",
              "        [-0.01804338,  0.38230792]], dtype=float32),\n",
              " array([-0.1284716 ,  0.12847163], dtype=float32)]"
            ]
          },
          "metadata": {},
          "execution_count": 24
        }
      ]
    },
    {
      "cell_type": "code",
      "source": [
        "import json"
      ],
      "metadata": {
        "id": "sxxzIp7Illxk"
      },
      "execution_count": null,
      "outputs": []
    },
    {
      "cell_type": "code",
      "source": [
        "json_string = model.to_json()"
      ],
      "metadata": {
        "id": "QRUOvHwvlpNX"
      },
      "execution_count": null,
      "outputs": []
    },
    {
      "cell_type": "code",
      "source": [
        "json_string"
      ],
      "metadata": {
        "colab": {
          "base_uri": "https://localhost:8080/",
          "height": 123
        },
        "id": "OinLuKdvlt07",
        "outputId": "1bae1343-b010-4363-d55e-17af6ebdc68e"
      },
      "execution_count": null,
      "outputs": [
        {
          "output_type": "execute_result",
          "data": {
            "text/plain": [
              "'{\"class_name\": \"Sequential\", \"config\": {\"name\": \"sequential\", \"layers\": [{\"class_name\": \"InputLayer\", \"config\": {\"batch_input_shape\": [null, 1], \"dtype\": \"float32\", \"sparse\": false, \"ragged\": false, \"name\": \"dense_input\"}}, {\"class_name\": \"Dense\", \"config\": {\"name\": \"dense\", \"trainable\": true, \"dtype\": \"float32\", \"batch_input_shape\": [null, 1], \"units\": 12, \"activation\": \"relu\", \"use_bias\": true, \"kernel_initializer\": {\"class_name\": \"GlorotUniform\", \"config\": {\"seed\": null}}, \"bias_initializer\": {\"class_name\": \"Zeros\", \"config\": {}}, \"kernel_regularizer\": null, \"bias_regularizer\": null, \"activity_regularizer\": null, \"kernel_constraint\": null, \"bias_constraint\": null}}, {\"class_name\": \"Dense\", \"config\": {\"name\": \"dense_1\", \"trainable\": true, \"dtype\": \"float32\", \"units\": 24, \"activation\": \"relu\", \"use_bias\": true, \"kernel_initializer\": {\"class_name\": \"GlorotUniform\", \"config\": {\"seed\": null}}, \"bias_initializer\": {\"class_name\": \"Zeros\", \"config\": {}}, \"kernel_regularizer\": null, \"bias_regularizer\": null, \"activity_regularizer\": null, \"kernel_constraint\": null, \"bias_constraint\": null}}, {\"class_name\": \"Dense\", \"config\": {\"name\": \"dense_2\", \"trainable\": true, \"dtype\": \"float32\", \"units\": 12, \"activation\": \"relu\", \"use_bias\": true, \"kernel_initializer\": {\"class_name\": \"GlorotUniform\", \"config\": {\"seed\": null}}, \"bias_initializer\": {\"class_name\": \"Zeros\", \"config\": {}}, \"kernel_regularizer\": null, \"bias_regularizer\": null, \"activity_regularizer\": null, \"kernel_constraint\": null, \"bias_constraint\": null}}, {\"class_name\": \"Dense\", \"config\": {\"name\": \"dense_3\", \"trainable\": true, \"dtype\": \"float32\", \"units\": 2, \"activation\": \"softmax\", \"use_bias\": true, \"kernel_initializer\": {\"class_name\": \"GlorotUniform\", \"config\": {\"seed\": null}}, \"bias_initializer\": {\"class_name\": \"Zeros\", \"config\": {}}, \"kernel_regularizer\": null, \"bias_regularizer\": null, \"activity_regularizer\": null, \"kernel_constraint\": null, \"bias_constraint\": null}}]}, \"keras_version\": \"2.11.0\", \"backend\": \"tensorflow\"}'"
            ],
            "application/vnd.google.colaboratory.intrinsic+json": {
              "type": "string"
            }
          },
          "metadata": {},
          "execution_count": 27
        }
      ]
    },
    {
      "cell_type": "code",
      "source": [
        "from tensorflow.keras.models import model_from_json\n",
        "model_architecture = model_from_json(json_string)"
      ],
      "metadata": {
        "id": "tB8DJnXtlv0A"
      },
      "execution_count": null,
      "outputs": []
    },
    {
      "cell_type": "code",
      "source": [
        "model_architecture.summary()"
      ],
      "metadata": {
        "colab": {
          "base_uri": "https://localhost:8080/"
        },
        "id": "flmqrH77l7P-",
        "outputId": "ed8b93f0-c475-42cb-f1da-bb65a2a21d26"
      },
      "execution_count": null,
      "outputs": [
        {
          "output_type": "stream",
          "name": "stdout",
          "text": [
            "Model: \"sequential\"\n",
            "_________________________________________________________________\n",
            " Layer (type)                Output Shape              Param #   \n",
            "=================================================================\n",
            " dense (Dense)               (None, 12)                24        \n",
            "                                                                 \n",
            " dense_1 (Dense)             (None, 24)                312       \n",
            "                                                                 \n",
            " dense_2 (Dense)             (None, 12)                300       \n",
            "                                                                 \n",
            " dense_3 (Dense)             (None, 2)                 26        \n",
            "                                                                 \n",
            "=================================================================\n",
            "Total params: 662\n",
            "Trainable params: 662\n",
            "Non-trainable params: 0\n",
            "_________________________________________________________________\n"
          ]
        }
      ]
    },
    {
      "cell_type": "code",
      "source": [
        "new_model.get_weights()"
      ],
      "metadata": {
        "colab": {
          "base_uri": "https://localhost:8080/"
        },
        "id": "gW_IqYdCl-Xq",
        "outputId": "f81f9afc-9edf-445f-9e65-efdfb98a48a0"
      },
      "execution_count": null,
      "outputs": [
        {
          "output_type": "execute_result",
          "data": {
            "text/plain": [
              "[array([[ 0.5552954 ,  0.08321864,  0.5809846 , -0.05490464,  0.05966226,\n",
              "         -0.03259623, -0.3113912 ,  0.24005003,  0.59172493,  0.25542983,\n",
              "         -0.03494012, -0.45306766]], dtype=float32),\n",
              " array([ 0.2124598 ,  0.19870283, -0.05967989,  0.        ,  0.20431103,\n",
              "         0.        ,  0.        , -0.02038793,  0.18538424,  0.17536636,\n",
              "         0.        ,  0.        ], dtype=float32),\n",
              " array([[ 0.40682724,  0.47563702,  0.304157  , -0.06149942, -0.35234815,\n",
              "          0.03841222,  0.27698368, -0.2696213 ,  0.08236355,  0.25795096,\n",
              "          0.20364714,  0.16582602,  0.1176226 ,  0.3120504 , -0.364536  ,\n",
              "         -0.2545128 , -0.37149402, -0.30500606, -0.05587103,  0.39530513,\n",
              "         -0.27436203, -0.00654916, -0.10479441, -0.20723523],\n",
              "        [ 0.35367602,  0.45903713,  0.44664198, -0.17397816,  0.3777743 ,\n",
              "          0.11343416, -0.31826535, -0.01294043,  0.3276627 , -0.18671678,\n",
              "          0.359675  ,  0.30200273,  0.10975882, -0.34639427,  0.17487974,\n",
              "          0.18591532, -0.10028991,  0.49194536, -0.16564465,  0.05752818,\n",
              "         -0.15491638,  0.3232158 , -0.30893105,  0.03076687],\n",
              "        [-0.1590189 ,  0.29989785, -0.4338196 , -0.23802315,  0.2521969 ,\n",
              "          0.24575281,  0.42997193, -0.26945823, -0.34131593,  0.19516996,\n",
              "          0.1871838 , -0.07650164, -0.3406048 , -0.35838518, -0.25435394,\n",
              "          0.02291193,  0.29215157,  0.15612717, -0.15814537,  0.09995296,\n",
              "         -0.17445968, -0.3743019 ,  0.02615436, -0.28532988],\n",
              "        [ 0.16843206,  0.09832096, -0.21198231,  0.09164131,  0.23641431,\n",
              "          0.20055962,  0.16510665, -0.18522394,  0.35507172, -0.305705  ,\n",
              "          0.14892876,  0.04363346,  0.29889077, -0.14502025, -0.16479023,\n",
              "          0.3281368 ,  0.20283854,  0.21515375, -0.22104518,  0.26057804,\n",
              "         -0.36572483, -0.06653479, -0.02754173,  0.06685346],\n",
              "        [ 0.26000777, -0.12357758, -0.11187414, -0.27461088, -0.02616096,\n",
              "          0.17465045,  0.19738173, -0.3955493 ,  0.10939194,  0.24065849,\n",
              "         -0.00941941,  0.2746723 ,  0.25490478,  0.39733517,  0.2551562 ,\n",
              "         -0.09603981,  0.1575883 ,  0.50800425,  0.02738424, -0.07677836,\n",
              "          0.01534918,  0.46638712,  0.36169302, -0.30655658],\n",
              "        [ 0.3507282 , -0.14047882, -0.38555965, -0.24036393, -0.17272869,\n",
              "          0.3254431 , -0.3815312 , -0.1554378 ,  0.15609312, -0.37972116,\n",
              "          0.3261764 , -0.02240765, -0.3660947 ,  0.02101284, -0.14163321,\n",
              "         -0.22734998,  0.09085962, -0.01236433,  0.06491029,  0.25555813,\n",
              "          0.08894506, -0.15460783, -0.1719652 , -0.0272145 ],\n",
              "        [-0.2666077 ,  0.14134324,  0.36717558,  0.13066745,  0.35617328,\n",
              "         -0.24860276,  0.26377177, -0.11445054, -0.3600643 , -0.0873149 ,\n",
              "          0.23870575, -0.378633  , -0.04756421, -0.27763253,  0.05470198,\n",
              "          0.11013556, -0.02129024, -0.4074267 ,  0.07272649,  0.04054582,\n",
              "          0.32159382, -0.15983233,  0.22865933, -0.26506907],\n",
              "        [-0.4072548 , -0.24693191, -0.52164716,  0.121638  ,  0.3784939 ,\n",
              "         -0.40697488, -0.1987679 , -0.38520175, -0.3870815 , -0.36990625,\n",
              "          0.37138617,  0.26441938, -0.21460786, -0.09872508, -0.44742584,\n",
              "         -0.09012054, -0.01130331,  0.25256002, -0.08517773,  0.1261646 ,\n",
              "          0.21944958, -0.23911762, -0.15351278,  0.19563234],\n",
              "        [-0.19682531,  0.4354145 , -0.17569152,  0.08617464, -0.155992  ,\n",
              "         -0.22602457,  0.2848495 ,  0.37707847,  0.1295182 ,  0.05882094,\n",
              "         -0.41089922,  0.39294857,  0.0647069 , -0.34308755,  0.30369577,\n",
              "          0.37491658, -0.04966292,  0.00419791,  0.28731582,  0.13832556,\n",
              "         -0.10060403,  0.12089721,  0.05976151, -0.16803582],\n",
              "        [ 0.40088543,  0.20440522,  0.12222542, -0.12208232, -0.38167945,\n",
              "         -0.14302836, -0.10713712, -0.01729723, -0.08495132, -0.11165357,\n",
              "         -0.2647183 ,  0.17279081,  0.2031749 , -0.07879668,  0.39799213,\n",
              "         -0.26212868, -0.39545766, -0.06018438,  0.35646373,  0.13456245,\n",
              "         -0.1943891 , -0.03754625, -0.00105979,  0.00353751],\n",
              "        [ 0.10101098, -0.06198519,  0.14016736,  0.33181262, -0.18429469,\n",
              "         -0.36638525, -0.29497948,  0.3354603 , -0.3899501 , -0.10521445,\n",
              "         -0.11182779,  0.16498041, -0.21657892, -0.04630733, -0.27628076,\n",
              "         -0.27539745,  0.15158957, -0.36693004, -0.09115669, -0.37883037,\n",
              "         -0.2602585 , -0.3737648 ,  0.38152593,  0.18929124],\n",
              "        [-0.26568538,  0.01961541, -0.20827934, -0.21010299,  0.0865193 ,\n",
              "          0.3287503 , -0.14255857,  0.05956373,  0.36447674,  0.17737317,\n",
              "          0.07397646,  0.21636605, -0.04314485, -0.16034177, -0.28617555,\n",
              "          0.20740741, -0.23137407, -0.31200203,  0.16770375,  0.25940555,\n",
              "          0.17154318,  0.02287835,  0.12800014, -0.08824271]],\n",
              "       dtype=float32),\n",
              " array([ 0.1707552 ,  0.08045981,  0.20343687,  0.        ,  0.        ,\n",
              "        -0.00145325, -0.07661335, -0.00236183,  0.18865214,  0.20010082,\n",
              "        -0.00528558,  0.14859979,  0.17946471, -0.0031026 ,  0.13311453,\n",
              "        -0.01311267,  0.        ,  0.16726086,  0.17133276, -0.1301179 ,\n",
              "         0.        ,  0.16593428, -0.00395865,  0.        ], dtype=float32),\n",
              " array([[-0.10723588,  0.2569948 , -0.10316055,  0.2929393 ,  0.13662076,\n",
              "          0.48913592,  0.4633352 , -0.39723653, -0.06377149, -0.15132153,\n",
              "          0.16356556,  0.48983896],\n",
              "        [-0.40727925,  0.42847395, -0.381174  ,  0.26204097, -0.25595516,\n",
              "          0.06781089, -0.06260458, -0.16584542, -0.23422585,  0.07170899,\n",
              "         -0.07734145,  0.14821368],\n",
              "        [ 0.02333418,  0.40232357,  0.36757612, -0.3668005 ,  0.51151747,\n",
              "          0.34267452,  0.4836669 ,  0.02363357, -0.29311264,  0.09340558,\n",
              "          0.3302957 ,  0.45929518],\n",
              "        [ 0.21300298, -0.04249203, -0.07198411,  0.08401665, -0.33451557,\n",
              "         -0.11627343, -0.0170427 , -0.29238504,  0.14867485, -0.02202386,\n",
              "          0.18067223,  0.04053456],\n",
              "        [-0.31293878, -0.3137889 ,  0.1916467 , -0.16980156,  0.04403594,\n",
              "         -0.06714839,  0.3877443 , -0.03494379, -0.2034835 ,  0.25834054,\n",
              "          0.18487638, -0.30027154],\n",
              "        [-0.07993641,  0.06001297, -0.1013523 , -0.08089146,  0.08440843,\n",
              "          0.35873973, -0.25080547, -0.08097059, -0.35906222, -0.24754022,\n",
              "          0.07988474, -0.3210357 ],\n",
              "        [-0.10277155, -0.02568194,  0.03426138, -0.19473805, -0.5644904 ,\n",
              "         -0.27267998, -0.24461403, -0.22015983, -0.03706545, -0.17914826,\n",
              "         -0.23383467, -0.19835483],\n",
              "        [ 0.3949291 ,  0.3733754 ,  0.17731392,  0.29136527, -0.38915634,\n",
              "         -0.2480208 ,  0.08043326, -0.18954809, -0.0619885 ,  0.12445208,\n",
              "         -0.30775952, -0.21776092],\n",
              "        [-0.258357  ,  0.24553606, -0.18013571, -0.11811345,  0.01276739,\n",
              "          0.26734003,  0.43497825, -0.0078088 ,  0.32023025,  0.5487841 ,\n",
              "         -0.3397781 , -0.08010065],\n",
              "        [-0.02998158,  0.37520242,  0.13298234,  0.3157638 ,  0.22812921,\n",
              "          0.20638433, -0.03428425, -0.05037764,  0.10279858, -0.05546984,\n",
              "         -0.21219818,  0.42484283],\n",
              "        [ 0.19877672, -0.08308931,  0.34932816,  0.09750636, -0.23228179,\n",
              "          0.12942411, -0.3175876 , -0.13788673, -0.30052996,  0.39411113,\n",
              "         -0.09996969,  0.08854821],\n",
              "        [-0.3027001 , -0.15351252,  0.23822229,  0.01551846, -0.02726846,\n",
              "          0.20174198,  0.09920879, -0.30524772, -0.01489764, -0.20328036,\n",
              "          0.02282957,  0.19174217],\n",
              "        [-0.2997473 ,  0.5474514 , -0.13650423, -0.05194825,  0.12674057,\n",
              "          0.397749  ,  0.50490224, -0.00467068, -0.32108456,  0.41115868,\n",
              "          0.04670797,  0.05639828],\n",
              "        [ 0.32988375,  0.09907138,  0.2316981 ,  0.05159432,  0.12809324,\n",
              "         -0.10858629,  0.01998918,  0.20858699,  0.17677736, -0.23054032,\n",
              "         -0.19950186, -0.12952888],\n",
              "        [ 0.19662058, -0.12399481, -0.35722107, -0.19714013,  0.0226044 ,\n",
              "          0.57239044, -0.1359834 , -0.09081903,  0.25800562,  0.26537102,\n",
              "         -0.29910123,  0.0444058 ],\n",
              "        [ 0.05949774, -0.1770369 ,  0.11527211, -0.37822655,  0.37115663,\n",
              "         -0.20582296, -0.23948294,  0.09309578,  0.30053598, -0.3567539 ,\n",
              "          0.00994849, -0.36203462],\n",
              "        [-0.28551728,  0.06900367,  0.39284414, -0.31515634,  0.2945876 ,\n",
              "          0.2623394 ,  0.18201464, -0.09797153, -0.04835552,  0.09432811,\n",
              "          0.22236413, -0.33383763],\n",
              "        [ 0.07707098, -0.1611553 ,  0.06970718, -0.2362878 , -0.08731255,\n",
              "          0.42971256,  0.24264285, -0.05366683, -0.3888651 ,  0.47789767,\n",
              "          0.10864073, -0.18259458],\n",
              "        [ 0.10904688,  0.04325396,  0.28707936, -0.40405223,  0.16090922,\n",
              "          0.29508603,  0.01038704, -0.09553224,  0.09478313,  0.35876477,\n",
              "         -0.04748371, -0.10895317],\n",
              "        [-0.34390092,  0.10372426,  0.1884702 , -0.36613825, -0.41714755,\n",
              "         -0.4008786 , -0.2515129 , -0.06556866, -0.02834794, -0.03298963,\n",
              "         -0.37983146, -0.05949317],\n",
              "        [-0.17483392,  0.32812715,  0.11233997, -0.20761757, -0.13892585,\n",
              "         -0.18285745,  0.3018465 ,  0.04909828,  0.22443259,  0.19277352,\n",
              "         -0.3891242 , -0.03657177],\n",
              "        [ 0.06883508,  0.4853097 , -0.02322893,  0.0132647 ,  0.3282514 ,\n",
              "          0.05024618,  0.3595427 , -0.30138493,  0.30568975,  0.16056168,\n",
              "          0.12532458,  0.02177428],\n",
              "        [-0.10174838, -0.00813684,  0.21251208, -0.2667939 ,  0.19071175,\n",
              "         -0.18383263, -0.30021566, -0.3341353 ,  0.2595833 , -0.16719201,\n",
              "          0.19747478,  0.31202286],\n",
              "        [-0.18551049, -0.17071709, -0.16260353, -0.31817698,  0.16937435,\n",
              "         -0.29446876,  0.1206519 , -0.25367647,  0.14129078,  0.07277748,\n",
              "          0.24094129,  0.38334805]], dtype=float32),\n",
              " array([ 0.        ,  0.1613836 , -0.00335875, -0.03000145,  0.17063656,\n",
              "         0.13741885,  0.16689138,  0.        ,  0.        ,  0.17913455,\n",
              "        -0.00315755,  0.14713858], dtype=float32),\n",
              " array([[-0.22982547,  0.2874809 ],\n",
              "        [ 0.35486963,  0.6559624 ],\n",
              "        [-0.10580517, -0.2885196 ],\n",
              "        [-0.30554554, -0.5976168 ],\n",
              "        [-0.8880859 ,  0.9666932 ],\n",
              "        [-0.1616156 ,  0.7869991 ],\n",
              "        [-0.50760275,  0.68907833],\n",
              "        [ 0.39700496,  0.23238552],\n",
              "        [ 0.12805873, -0.5596377 ],\n",
              "        [-0.1516342 ,  0.84885293],\n",
              "        [-0.31920615, -0.62867516],\n",
              "        [-0.01804338,  0.38230792]], dtype=float32),\n",
              " array([-0.1284716 ,  0.12847163], dtype=float32)]"
            ]
          },
          "metadata": {},
          "execution_count": 30
        }
      ]
    },
    {
      "cell_type": "code",
      "source": [
        "import os.path"
      ],
      "metadata": {
        "id": "hxHH0OOumCuR"
      },
      "execution_count": null,
      "outputs": []
    },
    {
      "cell_type": "code",
      "source": [
        "if os.path.isfile('model_weights.h5') is False:\n",
        "  model.save_weights('model_weights.h5')\n",
        "  print(\"Model saved!\")"
      ],
      "metadata": {
        "colab": {
          "base_uri": "https://localhost:8080/"
        },
        "id": "PgEZdvmAmH0q",
        "outputId": "e969324b-d0b8-4886-ab56-ac61f861c825"
      },
      "execution_count": null,
      "outputs": [
        {
          "output_type": "stream",
          "name": "stdout",
          "text": [
            "Model saved!\n"
          ]
        }
      ]
    },
    {
      "cell_type": "code",
      "source": [
        "model2 = Sequential([\n",
        "    Dense(units=12, input_shape=(1,), activation='relu'),\n",
        "    Dense(units=24, activation='relu'),\n",
        "    Dense(units=12, activation='relu'),\n",
        "    Dense(units=2, activation='softmax')\n",
        "])"
      ],
      "metadata": {
        "id": "Lt7o1rcMmVyd"
      },
      "execution_count": null,
      "outputs": []
    },
    {
      "cell_type": "code",
      "source": [
        "model2.load_weights('model_weights.h5')"
      ],
      "metadata": {
        "id": "x04l5puAm1nN"
      },
      "execution_count": null,
      "outputs": []
    },
    {
      "cell_type": "code",
      "source": [
        "model2.get_weights()"
      ],
      "metadata": {
        "colab": {
          "base_uri": "https://localhost:8080/"
        },
        "id": "mB-BXNxJnALK",
        "outputId": "52becfee-a32d-4428-9256-e508112eca41"
      },
      "execution_count": null,
      "outputs": [
        {
          "output_type": "execute_result",
          "data": {
            "text/plain": [
              "[array([[ 0.5552954 ,  0.08321864,  0.5809846 , -0.05490464,  0.05966226,\n",
              "         -0.03259623, -0.3113912 ,  0.24005003,  0.59172493,  0.25542983,\n",
              "         -0.03494012, -0.45306766]], dtype=float32),\n",
              " array([ 0.2124598 ,  0.19870283, -0.05967989,  0.        ,  0.20431103,\n",
              "         0.        ,  0.        , -0.02038793,  0.18538424,  0.17536636,\n",
              "         0.        ,  0.        ], dtype=float32),\n",
              " array([[ 0.40682724,  0.47563702,  0.304157  , -0.06149942, -0.35234815,\n",
              "          0.03841222,  0.27698368, -0.2696213 ,  0.08236355,  0.25795096,\n",
              "          0.20364714,  0.16582602,  0.1176226 ,  0.3120504 , -0.364536  ,\n",
              "         -0.2545128 , -0.37149402, -0.30500606, -0.05587103,  0.39530513,\n",
              "         -0.27436203, -0.00654916, -0.10479441, -0.20723523],\n",
              "        [ 0.35367602,  0.45903713,  0.44664198, -0.17397816,  0.3777743 ,\n",
              "          0.11343416, -0.31826535, -0.01294043,  0.3276627 , -0.18671678,\n",
              "          0.359675  ,  0.30200273,  0.10975882, -0.34639427,  0.17487974,\n",
              "          0.18591532, -0.10028991,  0.49194536, -0.16564465,  0.05752818,\n",
              "         -0.15491638,  0.3232158 , -0.30893105,  0.03076687],\n",
              "        [-0.1590189 ,  0.29989785, -0.4338196 , -0.23802315,  0.2521969 ,\n",
              "          0.24575281,  0.42997193, -0.26945823, -0.34131593,  0.19516996,\n",
              "          0.1871838 , -0.07650164, -0.3406048 , -0.35838518, -0.25435394,\n",
              "          0.02291193,  0.29215157,  0.15612717, -0.15814537,  0.09995296,\n",
              "         -0.17445968, -0.3743019 ,  0.02615436, -0.28532988],\n",
              "        [ 0.16843206,  0.09832096, -0.21198231,  0.09164131,  0.23641431,\n",
              "          0.20055962,  0.16510665, -0.18522394,  0.35507172, -0.305705  ,\n",
              "          0.14892876,  0.04363346,  0.29889077, -0.14502025, -0.16479023,\n",
              "          0.3281368 ,  0.20283854,  0.21515375, -0.22104518,  0.26057804,\n",
              "         -0.36572483, -0.06653479, -0.02754173,  0.06685346],\n",
              "        [ 0.26000777, -0.12357758, -0.11187414, -0.27461088, -0.02616096,\n",
              "          0.17465045,  0.19738173, -0.3955493 ,  0.10939194,  0.24065849,\n",
              "         -0.00941941,  0.2746723 ,  0.25490478,  0.39733517,  0.2551562 ,\n",
              "         -0.09603981,  0.1575883 ,  0.50800425,  0.02738424, -0.07677836,\n",
              "          0.01534918,  0.46638712,  0.36169302, -0.30655658],\n",
              "        [ 0.3507282 , -0.14047882, -0.38555965, -0.24036393, -0.17272869,\n",
              "          0.3254431 , -0.3815312 , -0.1554378 ,  0.15609312, -0.37972116,\n",
              "          0.3261764 , -0.02240765, -0.3660947 ,  0.02101284, -0.14163321,\n",
              "         -0.22734998,  0.09085962, -0.01236433,  0.06491029,  0.25555813,\n",
              "          0.08894506, -0.15460783, -0.1719652 , -0.0272145 ],\n",
              "        [-0.2666077 ,  0.14134324,  0.36717558,  0.13066745,  0.35617328,\n",
              "         -0.24860276,  0.26377177, -0.11445054, -0.3600643 , -0.0873149 ,\n",
              "          0.23870575, -0.378633  , -0.04756421, -0.27763253,  0.05470198,\n",
              "          0.11013556, -0.02129024, -0.4074267 ,  0.07272649,  0.04054582,\n",
              "          0.32159382, -0.15983233,  0.22865933, -0.26506907],\n",
              "        [-0.4072548 , -0.24693191, -0.52164716,  0.121638  ,  0.3784939 ,\n",
              "         -0.40697488, -0.1987679 , -0.38520175, -0.3870815 , -0.36990625,\n",
              "          0.37138617,  0.26441938, -0.21460786, -0.09872508, -0.44742584,\n",
              "         -0.09012054, -0.01130331,  0.25256002, -0.08517773,  0.1261646 ,\n",
              "          0.21944958, -0.23911762, -0.15351278,  0.19563234],\n",
              "        [-0.19682531,  0.4354145 , -0.17569152,  0.08617464, -0.155992  ,\n",
              "         -0.22602457,  0.2848495 ,  0.37707847,  0.1295182 ,  0.05882094,\n",
              "         -0.41089922,  0.39294857,  0.0647069 , -0.34308755,  0.30369577,\n",
              "          0.37491658, -0.04966292,  0.00419791,  0.28731582,  0.13832556,\n",
              "         -0.10060403,  0.12089721,  0.05976151, -0.16803582],\n",
              "        [ 0.40088543,  0.20440522,  0.12222542, -0.12208232, -0.38167945,\n",
              "         -0.14302836, -0.10713712, -0.01729723, -0.08495132, -0.11165357,\n",
              "         -0.2647183 ,  0.17279081,  0.2031749 , -0.07879668,  0.39799213,\n",
              "         -0.26212868, -0.39545766, -0.06018438,  0.35646373,  0.13456245,\n",
              "         -0.1943891 , -0.03754625, -0.00105979,  0.00353751],\n",
              "        [ 0.10101098, -0.06198519,  0.14016736,  0.33181262, -0.18429469,\n",
              "         -0.36638525, -0.29497948,  0.3354603 , -0.3899501 , -0.10521445,\n",
              "         -0.11182779,  0.16498041, -0.21657892, -0.04630733, -0.27628076,\n",
              "         -0.27539745,  0.15158957, -0.36693004, -0.09115669, -0.37883037,\n",
              "         -0.2602585 , -0.3737648 ,  0.38152593,  0.18929124],\n",
              "        [-0.26568538,  0.01961541, -0.20827934, -0.21010299,  0.0865193 ,\n",
              "          0.3287503 , -0.14255857,  0.05956373,  0.36447674,  0.17737317,\n",
              "          0.07397646,  0.21636605, -0.04314485, -0.16034177, -0.28617555,\n",
              "          0.20740741, -0.23137407, -0.31200203,  0.16770375,  0.25940555,\n",
              "          0.17154318,  0.02287835,  0.12800014, -0.08824271]],\n",
              "       dtype=float32),\n",
              " array([ 0.1707552 ,  0.08045981,  0.20343687,  0.        ,  0.        ,\n",
              "        -0.00145325, -0.07661335, -0.00236183,  0.18865214,  0.20010082,\n",
              "        -0.00528558,  0.14859979,  0.17946471, -0.0031026 ,  0.13311453,\n",
              "        -0.01311267,  0.        ,  0.16726086,  0.17133276, -0.1301179 ,\n",
              "         0.        ,  0.16593428, -0.00395865,  0.        ], dtype=float32),\n",
              " array([[-0.10723588,  0.2569948 , -0.10316055,  0.2929393 ,  0.13662076,\n",
              "          0.48913592,  0.4633352 , -0.39723653, -0.06377149, -0.15132153,\n",
              "          0.16356556,  0.48983896],\n",
              "        [-0.40727925,  0.42847395, -0.381174  ,  0.26204097, -0.25595516,\n",
              "          0.06781089, -0.06260458, -0.16584542, -0.23422585,  0.07170899,\n",
              "         -0.07734145,  0.14821368],\n",
              "        [ 0.02333418,  0.40232357,  0.36757612, -0.3668005 ,  0.51151747,\n",
              "          0.34267452,  0.4836669 ,  0.02363357, -0.29311264,  0.09340558,\n",
              "          0.3302957 ,  0.45929518],\n",
              "        [ 0.21300298, -0.04249203, -0.07198411,  0.08401665, -0.33451557,\n",
              "         -0.11627343, -0.0170427 , -0.29238504,  0.14867485, -0.02202386,\n",
              "          0.18067223,  0.04053456],\n",
              "        [-0.31293878, -0.3137889 ,  0.1916467 , -0.16980156,  0.04403594,\n",
              "         -0.06714839,  0.3877443 , -0.03494379, -0.2034835 ,  0.25834054,\n",
              "          0.18487638, -0.30027154],\n",
              "        [-0.07993641,  0.06001297, -0.1013523 , -0.08089146,  0.08440843,\n",
              "          0.35873973, -0.25080547, -0.08097059, -0.35906222, -0.24754022,\n",
              "          0.07988474, -0.3210357 ],\n",
              "        [-0.10277155, -0.02568194,  0.03426138, -0.19473805, -0.5644904 ,\n",
              "         -0.27267998, -0.24461403, -0.22015983, -0.03706545, -0.17914826,\n",
              "         -0.23383467, -0.19835483],\n",
              "        [ 0.3949291 ,  0.3733754 ,  0.17731392,  0.29136527, -0.38915634,\n",
              "         -0.2480208 ,  0.08043326, -0.18954809, -0.0619885 ,  0.12445208,\n",
              "         -0.30775952, -0.21776092],\n",
              "        [-0.258357  ,  0.24553606, -0.18013571, -0.11811345,  0.01276739,\n",
              "          0.26734003,  0.43497825, -0.0078088 ,  0.32023025,  0.5487841 ,\n",
              "         -0.3397781 , -0.08010065],\n",
              "        [-0.02998158,  0.37520242,  0.13298234,  0.3157638 ,  0.22812921,\n",
              "          0.20638433, -0.03428425, -0.05037764,  0.10279858, -0.05546984,\n",
              "         -0.21219818,  0.42484283],\n",
              "        [ 0.19877672, -0.08308931,  0.34932816,  0.09750636, -0.23228179,\n",
              "          0.12942411, -0.3175876 , -0.13788673, -0.30052996,  0.39411113,\n",
              "         -0.09996969,  0.08854821],\n",
              "        [-0.3027001 , -0.15351252,  0.23822229,  0.01551846, -0.02726846,\n",
              "          0.20174198,  0.09920879, -0.30524772, -0.01489764, -0.20328036,\n",
              "          0.02282957,  0.19174217],\n",
              "        [-0.2997473 ,  0.5474514 , -0.13650423, -0.05194825,  0.12674057,\n",
              "          0.397749  ,  0.50490224, -0.00467068, -0.32108456,  0.41115868,\n",
              "          0.04670797,  0.05639828],\n",
              "        [ 0.32988375,  0.09907138,  0.2316981 ,  0.05159432,  0.12809324,\n",
              "         -0.10858629,  0.01998918,  0.20858699,  0.17677736, -0.23054032,\n",
              "         -0.19950186, -0.12952888],\n",
              "        [ 0.19662058, -0.12399481, -0.35722107, -0.19714013,  0.0226044 ,\n",
              "          0.57239044, -0.1359834 , -0.09081903,  0.25800562,  0.26537102,\n",
              "         -0.29910123,  0.0444058 ],\n",
              "        [ 0.05949774, -0.1770369 ,  0.11527211, -0.37822655,  0.37115663,\n",
              "         -0.20582296, -0.23948294,  0.09309578,  0.30053598, -0.3567539 ,\n",
              "          0.00994849, -0.36203462],\n",
              "        [-0.28551728,  0.06900367,  0.39284414, -0.31515634,  0.2945876 ,\n",
              "          0.2623394 ,  0.18201464, -0.09797153, -0.04835552,  0.09432811,\n",
              "          0.22236413, -0.33383763],\n",
              "        [ 0.07707098, -0.1611553 ,  0.06970718, -0.2362878 , -0.08731255,\n",
              "          0.42971256,  0.24264285, -0.05366683, -0.3888651 ,  0.47789767,\n",
              "          0.10864073, -0.18259458],\n",
              "        [ 0.10904688,  0.04325396,  0.28707936, -0.40405223,  0.16090922,\n",
              "          0.29508603,  0.01038704, -0.09553224,  0.09478313,  0.35876477,\n",
              "         -0.04748371, -0.10895317],\n",
              "        [-0.34390092,  0.10372426,  0.1884702 , -0.36613825, -0.41714755,\n",
              "         -0.4008786 , -0.2515129 , -0.06556866, -0.02834794, -0.03298963,\n",
              "         -0.37983146, -0.05949317],\n",
              "        [-0.17483392,  0.32812715,  0.11233997, -0.20761757, -0.13892585,\n",
              "         -0.18285745,  0.3018465 ,  0.04909828,  0.22443259,  0.19277352,\n",
              "         -0.3891242 , -0.03657177],\n",
              "        [ 0.06883508,  0.4853097 , -0.02322893,  0.0132647 ,  0.3282514 ,\n",
              "          0.05024618,  0.3595427 , -0.30138493,  0.30568975,  0.16056168,\n",
              "          0.12532458,  0.02177428],\n",
              "        [-0.10174838, -0.00813684,  0.21251208, -0.2667939 ,  0.19071175,\n",
              "         -0.18383263, -0.30021566, -0.3341353 ,  0.2595833 , -0.16719201,\n",
              "          0.19747478,  0.31202286],\n",
              "        [-0.18551049, -0.17071709, -0.16260353, -0.31817698,  0.16937435,\n",
              "         -0.29446876,  0.1206519 , -0.25367647,  0.14129078,  0.07277748,\n",
              "          0.24094129,  0.38334805]], dtype=float32),\n",
              " array([ 0.        ,  0.1613836 , -0.00335875, -0.03000145,  0.17063656,\n",
              "         0.13741885,  0.16689138,  0.        ,  0.        ,  0.17913455,\n",
              "        -0.00315755,  0.14713858], dtype=float32),\n",
              " array([[-0.22982547,  0.2874809 ],\n",
              "        [ 0.35486963,  0.6559624 ],\n",
              "        [-0.10580517, -0.2885196 ],\n",
              "        [-0.30554554, -0.5976168 ],\n",
              "        [-0.8880859 ,  0.9666932 ],\n",
              "        [-0.1616156 ,  0.7869991 ],\n",
              "        [-0.50760275,  0.68907833],\n",
              "        [ 0.39700496,  0.23238552],\n",
              "        [ 0.12805873, -0.5596377 ],\n",
              "        [-0.1516342 ,  0.84885293],\n",
              "        [-0.31920615, -0.62867516],\n",
              "        [-0.01804338,  0.38230792]], dtype=float32),\n",
              " array([-0.1284716 ,  0.12847163], dtype=float32)]"
            ]
          },
          "metadata": {},
          "execution_count": 37
        }
      ]
    },
    {
      "cell_type": "code",
      "source": [],
      "metadata": {
        "id": "ozM4kZconDEn"
      },
      "execution_count": null,
      "outputs": []
    }
  ]
}